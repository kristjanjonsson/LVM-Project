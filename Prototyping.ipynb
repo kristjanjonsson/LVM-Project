{
 "cells": [
  {
   "cell_type": "code",
   "execution_count": 1,
   "metadata": {
    "collapsed": true
   },
   "outputs": [],
   "source": [
    "%matplotlib inline\n",
    "%load_ext autoreload\n",
    "%autoreload 2"
   ]
  },
  {
   "cell_type": "code",
   "execution_count": 11,
   "metadata": {
    "collapsed": false
   },
   "outputs": [],
   "source": [
    "from os.path import join\n",
    "\n",
    "import numpy as np\n",
    "import matplotlib.pyplot as plt\n",
    "import seaborn as sns\n",
    "import math\n",
    "\n",
    "from models import MeanModel, SimpleModel, StandardModel, PMFModel\n",
    "from solver import Solver"
   ]
  },
  {
   "cell_type": "code",
   "execution_count": 3,
   "metadata": {
    "collapsed": false
   },
   "outputs": [
    {
     "name": "stdout",
     "output_type": "stream",
     "text": [
      "README        u.info        u1.test       u4.base       ua.test\r\n",
      "\u001b[31mallbut.pl\u001b[m\u001b[m*    u.item        u2.base       u4.test       ub.base\r\n",
      "\u001b[31mmku.sh\u001b[m\u001b[m*       u.occupation  u2.test       u5.base       ub.test\r\n",
      "u.data        u.user        u3.base       u5.test\r\n",
      "u.genre       u1.base       u3.test       ua.base\r\n"
     ]
    }
   ],
   "source": [
    "ls data/ml-100k/"
   ]
  },
  {
   "cell_type": "code",
   "execution_count": 4,
   "metadata": {
    "collapsed": false
   },
   "outputs": [],
   "source": [
    "def loadMovieLens(path):\n",
    "    X_train = []\n",
    "    y_train = []\n",
    "    with open(join(path, 'u1.base')) as f:\n",
    "        for line in f:\n",
    "            uId, iId, r, timestamp = line.strip().split()\n",
    "            X_train.append((int(uId), int(iId)))\n",
    "            y_train.append(int(r))\n",
    "    X_train = np.array(X_train, dtype=np.int32)\n",
    "    y_train = np.array(y_train, dtype=np.float32)\n",
    "            \n",
    "    X_test = []\n",
    "    y_test = []\n",
    "    with open(join(path, 'u1.test')) as f:\n",
    "        for line in f:\n",
    "            uId, iId, r, timestamp = line.strip().split()\n",
    "            X_test.append((int(uId), int(iId)))\n",
    "            y_test.append(int(r))\n",
    "    X_test = np.array(X_test, dtype=np.int32)\n",
    "    y_test = np.array(y_test, dtype=np.float32)\n",
    "    \n",
    "    # Change Xs to 0 based indices.\n",
    "    X_train -= 1\n",
    "    X_test -= 1\n",
    "              \n",
    "    return X_train, y_train, X_test, y_test"
   ]
  },
  {
   "cell_type": "code",
   "execution_count": 5,
   "metadata": {
    "collapsed": false
   },
   "outputs": [],
   "source": [
    "X_train, y_train, X_test, y_test = loadMovieLens('data/ml-100k/')"
   ]
  },
  {
   "cell_type": "code",
   "execution_count": 16,
   "metadata": {
    "collapsed": false
   },
   "outputs": [],
   "source": [
    "yMean = np.mean(y_train)\n",
    "y_train_centered = y_train - yMean\n",
    "y_test_centered = y_test - yMean\n",
    "centeredData = {\n",
    "    'X_train': X_train,\n",
    "    'y_train': y_train_centered,\n",
    "    'X_val': X_test,\n",
    "    'y_val': y_test_centered\n",
    "}"
   ]
  },
  {
   "cell_type": "code",
   "execution_count": 6,
   "metadata": {
    "collapsed": false
   },
   "outputs": [
    {
     "data": {
      "text/plain": [
       "(943, 1682)"
      ]
     },
     "execution_count": 6,
     "metadata": {},
     "output_type": "execute_result"
    }
   ],
   "source": [
    "nUsers = 1 + max(X_train[:, 0].max(), X_test[:, 0].max())\n",
    "nItems = 1 + max(X_train[:, 1].max(), X_test[:, 1].max())\n",
    "nUsers, nItems"
   ]
  },
  {
   "cell_type": "code",
   "execution_count": 7,
   "metadata": {
    "collapsed": false
   },
   "outputs": [],
   "source": [
    "data = {\n",
    "    'X_train': X_train,\n",
    "    'y_train': y_train,\n",
    "    'X_val': X_test,\n",
    "    'y_val': y_test\n",
    "}"
   ]
  },
  {
   "cell_type": "code",
   "execution_count": null,
   "metadata": {
    "collapsed": false
   },
   "outputs": [],
   "source": [
    "model = SimpleModel(nUsers, nItems)\n",
    "solver = Solver(model, data,\n",
    "                update_rule='adam',\n",
    "                optim_config={\n",
    "                    'learning_rate': 1e-2,\n",
    "                },\n",
    "                lr_decay=0.9,\n",
    "                num_epochs=10, batch_size=400,\n",
    "                print_every=100)"
   ]
  },
  {
   "cell_type": "code",
   "execution_count": null,
   "metadata": {
    "collapsed": false
   },
   "outputs": [],
   "source": [
    "solver.train()"
   ]
  },
  {
   "cell_type": "code",
   "execution_count": null,
   "metadata": {
    "collapsed": false
   },
   "outputs": [],
   "source": [
    "plt.plot(solver.loss_history, 'o', alpha=0.7)\n",
    "plt.ylim((0, 2))"
   ]
  },
  {
   "cell_type": "code",
   "execution_count": null,
   "metadata": {
    "collapsed": false
   },
   "outputs": [],
   "source": [
    "def plotTrainTest(solver):\n",
    "    plt.plot(solver.train_loss_history, label='train')\n",
    "    plt.plot(solver.val_loss_history, label='val')\n",
    "    plt.legend()\n",
    "    plt.xlabel('epoch')\n",
    "    plt.ylabel('MSE')\n",
    "    \n",
    "plotTrainTest(solver)\n",
    "plt.ylim((0, 2))"
   ]
  },
  {
   "cell_type": "code",
   "execution_count": null,
   "metadata": {
    "collapsed": false
   },
   "outputs": [],
   "source": [
    "mse, _ = model.loss(X_test, y_test, use_reg=False)\n",
    "mse"
   ]
  },
  {
   "cell_type": "code",
   "execution_count": null,
   "metadata": {
    "collapsed": true
   },
   "outputs": [],
   "source": [
    "model2 = MeanModel()"
   ]
  },
  {
   "cell_type": "code",
   "execution_count": null,
   "metadata": {
    "collapsed": true
   },
   "outputs": [],
   "source": [
    "model2.fit(y_train)"
   ]
  },
  {
   "cell_type": "code",
   "execution_count": null,
   "metadata": {
    "collapsed": false
   },
   "outputs": [],
   "source": [
    "mse, _ = model2.loss(X_test, y_test)\n",
    "mse"
   ]
  },
  {
   "cell_type": "code",
   "execution_count": null,
   "metadata": {
    "collapsed": false
   },
   "outputs": [],
   "source": [
    "model3 = StandardModel(nUsers, nItems, latentDim=10, reg=1e-3)\n",
    "for p, v in model.params.items():\n",
    "    model3.params[p] = v.copy()\n",
    "    \n",
    "solver3 = Solver(model3, data,\n",
    "                update_rule='adam',\n",
    "                optim_config={\n",
    "                    'learning_rate': 3e-4,\n",
    "                },\n",
    "                lr_decay=1,\n",
    "                num_epochs=10, batch_size=1000,\n",
    "                print_every=100)\n",
    "solver3.train()"
   ]
  },
  {
   "cell_type": "code",
   "execution_count": null,
   "metadata": {
    "collapsed": false
   },
   "outputs": [],
   "source": [
    "plt.plot(solver2.loss_history, 'o', alpha=0.7)"
   ]
  },
  {
   "cell_type": "code",
   "execution_count": null,
   "metadata": {
    "collapsed": false
   },
   "outputs": [],
   "source": [
    "plotTrainTest(solver3)"
   ]
  },
  {
   "cell_type": "code",
   "execution_count": null,
   "metadata": {
    "collapsed": false
   },
   "outputs": [],
   "source": [
    "mse, _ = model3.loss(X_test, y_test, use_reg=False)\n",
    "mse"
   ]
  },
  {
   "cell_type": "code",
   "execution_count": 66,
   "metadata": {
    "collapsed": true
   },
   "outputs": [],
   "source": [
    "pmfModel = PMFModel(nUsers, nItems, lamU=.0001, lamV=.0001, latentDim=30)\n",
    "pmfSolver = Solver(pmfModel, centeredData,\n",
    "                update_rule='adam',\n",
    "                optim_config={\n",
    "                    'learning_rate': 3e-4,\n",
    "                },\n",
    "                lr_decay=.9,\n",
    "                num_epochs=10, batch_size=400,\n",
    "                print_every=100)"
   ]
  },
  {
   "cell_type": "code",
   "execution_count": 67,
   "metadata": {
    "collapsed": false
   },
   "outputs": [
    {
     "name": "stdout",
     "output_type": "stream",
     "text": [
      "(Iteration 1 / 2000) loss: 1.178579\n",
      "(Epoch 0 / 10) train loss: 1.240352; val_loss: 1.330968\n",
      "(Iteration 101 / 2000) loss: 1.117180\n",
      "(Epoch 1 / 10) train loss: 1.237032; val_loss: 1.327766\n",
      "(Iteration 201 / 2000) loss: 1.256155\n",
      "(Iteration 301 / 2000) loss: 1.254508\n",
      "(Epoch 2 / 10) train loss: 1.227262; val_loss: 1.303422\n",
      "(Iteration 401 / 2000) loss: 1.158193\n",
      "(Iteration 501 / 2000) loss: 1.074126\n",
      "(Epoch 3 / 10) train loss: 1.164066; val_loss: 1.265941\n",
      "(Iteration 601 / 2000) loss: 1.213657\n",
      "(Iteration 701 / 2000) loss: 1.234541\n",
      "(Epoch 4 / 10) train loss: 1.151619; val_loss: 1.227856\n",
      "(Iteration 801 / 2000) loss: 1.106188\n",
      "(Iteration 901 / 2000) loss: 1.094234\n",
      "(Epoch 5 / 10) train loss: 1.095121; val_loss: 1.195967\n",
      "(Iteration 1001 / 2000) loss: 1.149971\n",
      "(Iteration 1101 / 2000) loss: 0.947028\n",
      "(Epoch 6 / 10) train loss: 1.078799; val_loss: 1.168987\n",
      "(Iteration 1201 / 2000) loss: 1.134622\n",
      "(Iteration 1301 / 2000) loss: 1.212550\n",
      "(Epoch 7 / 10) train loss: 1.062387; val_loss: 1.147766\n",
      "(Iteration 1401 / 2000) loss: 1.052228\n",
      "(Iteration 1501 / 2000) loss: 1.084226\n",
      "(Epoch 8 / 10) train loss: 1.029896; val_loss: 1.130478\n",
      "(Iteration 1601 / 2000) loss: 1.068794\n",
      "(Iteration 1701 / 2000) loss: 1.059418\n",
      "(Epoch 9 / 10) train loss: 1.006704; val_loss: 1.117153\n",
      "(Iteration 1801 / 2000) loss: 1.143318\n",
      "(Iteration 1901 / 2000) loss: 0.915820\n",
      "(Epoch 10 / 10) train loss: 0.982141; val_loss: 1.105847\n"
     ]
    }
   ],
   "source": [
    "pmfSolver.train()"
   ]
  },
  {
   "cell_type": "code",
   "execution_count": 68,
   "metadata": {
    "collapsed": false
   },
   "outputs": [
    {
     "data": {
      "text/plain": [
       "1.0515923101272422"
      ]
     },
     "execution_count": 68,
     "metadata": {},
     "output_type": "execute_result"
    }
   ],
   "source": [
    "mse, _ = pmfModel.loss(X_test, y_test_centered, use_reg=False)\n",
    "rmse = math.sqrt(mse)\n",
    "rmse"
   ]
  },
  {
   "cell_type": "code",
   "execution_count": 78,
   "metadata": {
    "collapsed": false
   },
   "outputs": [
    {
     "data": {
      "text/plain": [
       "0"
      ]
     },
     "execution_count": 78,
     "metadata": {},
     "output_type": "execute_result"
    }
   ],
   "source": [
    "preds = np.dot(pmfModel.params['U'], pmfModel.params['V'].T)\n",
    "preds = preds + yMean\n",
    "np.sum(preds < 1.0)"
   ]
  },
  {
   "cell_type": "code",
   "execution_count": null,
   "metadata": {
    "collapsed": true
   },
   "outputs": [],
   "source": []
  }
 ],
 "metadata": {
  "kernelspec": {
   "display_name": "Python 3",
   "language": "python",
   "name": "python3"
  },
  "language_info": {
   "codemirror_mode": {
    "name": "ipython",
    "version": 3
   },
   "file_extension": ".py",
   "mimetype": "text/x-python",
   "name": "python",
   "nbconvert_exporter": "python",
   "pygments_lexer": "ipython3",
   "version": "3.5.1"
  }
 },
 "nbformat": 4,
 "nbformat_minor": 0
}
