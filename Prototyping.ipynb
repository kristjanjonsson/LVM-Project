{
 "cells": [
  {
   "cell_type": "code",
<<<<<<< HEAD
   "execution_count": 14,
=======
   "execution_count": 1,
>>>>>>> 16f665f0cf1b06bdc9ca7c66fd83bec15c9049dd
   "metadata": {
    "collapsed": false
   },
   "outputs": [
    {
     "name": "stdout",
     "output_type": "stream",
     "text": [
      "The autoreload extension is already loaded. To reload it, use:\n",
      "  %reload_ext autoreload\n"
     ]
    }
   ],
   "source": [
    "%matplotlib inline\n",
    "%load_ext autoreload\n",
    "%autoreload 2"
   ]
  },
  {
   "cell_type": "code",
<<<<<<< HEAD
   "execution_count": 34,
=======
   "execution_count": 11,
>>>>>>> 16f665f0cf1b06bdc9ca7c66fd83bec15c9049dd
   "metadata": {
    "collapsed": false
   },
   "outputs": [],
   "source": [
    "from os.path import join\n",
    "\n",
    "import numpy as np\n",
    "import matplotlib.pyplot as plt\n",
    "import seaborn as sns\n",
    "import math\n",
    "\n",
    "from models import MeanModel, SimpleModel, StandardModel, PMFModel\n",
    "from solver import Solver"
   ]
  },
  {
   "cell_type": "code",
<<<<<<< HEAD
   "execution_count": 17,
=======
   "execution_count": 3,
>>>>>>> 16f665f0cf1b06bdc9ca7c66fd83bec15c9049dd
   "metadata": {
    "collapsed": false
   },
   "outputs": [
    {
     "name": "stdout",
     "output_type": "stream",
     "text": [
      "README        u.info        u1.test       u4.base       ua.test\r\n",
      "\u001b[31mallbut.pl\u001b[m\u001b[m*    u.item        u2.base       u4.test       ub.base\r\n",
      "\u001b[31mmku.sh\u001b[m\u001b[m*       u.occupation  u2.test       u5.base       ub.test\r\n",
      "u.data        u.user        u3.base       u5.test\r\n",
      "u.genre       u1.base       u3.test       ua.base\r\n"
     ]
    }
   ],
   "source": [
    "ls data/ml-100k/"
   ]
  },
  {
   "cell_type": "code",
<<<<<<< HEAD
   "execution_count": 18,
=======
   "execution_count": 4,
>>>>>>> 16f665f0cf1b06bdc9ca7c66fd83bec15c9049dd
   "metadata": {
    "collapsed": false
   },
   "outputs": [],
   "source": [
    "def loadMovieLens(path):\n",
    "    X_train = []\n",
    "    y_train = []\n",
    "    with open(join(path, 'u1.base')) as f:\n",
    "        for line in f:\n",
    "            uId, iId, r, timestamp = line.strip().split()\n",
    "            X_train.append((int(uId), int(iId)))\n",
    "            y_train.append(int(r))\n",
    "    X_train = np.array(X_train, dtype=np.int32)\n",
    "    y_train = np.array(y_train, dtype=np.float32)\n",
    "            \n",
    "    X_test = []\n",
    "    y_test = []\n",
    "    with open(join(path, 'u1.test')) as f:\n",
    "        for line in f:\n",
    "            uId, iId, r, timestamp = line.strip().split()\n",
    "            X_test.append((int(uId), int(iId)))\n",
    "            y_test.append(int(r))\n",
    "    X_test = np.array(X_test, dtype=np.int32)\n",
    "    y_test = np.array(y_test, dtype=np.float32)\n",
    "    \n",
    "    # Change Xs to 0 based indices.\n",
    "    X_train -= 1\n",
    "    X_test -= 1\n",
    "              \n",
    "    return X_train, y_train, X_test, y_test"
   ]
  },
  {
   "cell_type": "code",
<<<<<<< HEAD
   "execution_count": 19,
=======
   "execution_count": 5,
>>>>>>> 16f665f0cf1b06bdc9ca7c66fd83bec15c9049dd
   "metadata": {
    "collapsed": false
   },
   "outputs": [],
   "source": [
    "X_train, y_train, X_test, y_test = loadMovieLens('data/ml-100k/')"
   ]
  },
  {
   "cell_type": "code",
<<<<<<< HEAD
   "execution_count": 20,
=======
   "execution_count": 16,
   "metadata": {
    "collapsed": false
   },
   "outputs": [],
   "source": [
    "yMean = np.mean(y_train)\n",
    "y_train_centered = y_train - yMean\n",
    "y_test_centered = y_test - yMean\n",
    "centeredData = {\n",
    "    'X_train': X_train,\n",
    "    'y_train': y_train_centered,\n",
    "    'X_val': X_test,\n",
    "    'y_val': y_test_centered\n",
    "}"
   ]
  },
  {
   "cell_type": "code",
   "execution_count": 6,
>>>>>>> 16f665f0cf1b06bdc9ca7c66fd83bec15c9049dd
   "metadata": {
    "collapsed": false
   },
   "outputs": [
    {
     "data": {
      "text/plain": [
       "(943, 1682)"
      ]
     },
<<<<<<< HEAD
     "execution_count": 20,
=======
     "execution_count": 6,
>>>>>>> 16f665f0cf1b06bdc9ca7c66fd83bec15c9049dd
     "metadata": {},
     "output_type": "execute_result"
    }
   ],
   "source": [
    "nUsers = 1 + max(X_train[:, 0].max(), X_test[:, 0].max())\n",
    "nItems = 1 + max(X_train[:, 1].max(), X_test[:, 1].max())\n",
    "nUsers, nItems"
   ]
  },
  {
   "cell_type": "code",
<<<<<<< HEAD
   "execution_count": 21,
=======
   "execution_count": 7,
>>>>>>> 16f665f0cf1b06bdc9ca7c66fd83bec15c9049dd
   "metadata": {
    "collapsed": false
   },
   "outputs": [],
   "source": [
    "data = {\n",
    "    'X_train': X_train,\n",
    "    'y_train': y_train,\n",
    "    'X_val': X_test,\n",
    "    'y_val': y_test\n",
    "}"
   ]
  },
  {
   "cell_type": "code",
<<<<<<< HEAD
   "execution_count": 22,
=======
   "execution_count": null,
>>>>>>> 16f665f0cf1b06bdc9ca7c66fd83bec15c9049dd
   "metadata": {
    "collapsed": false
   },
   "outputs": [],
   "source": [
    "model = SimpleModel(nUsers, nItems)\n",
    "solver = Solver(model, data,\n",
    "                update_rule='adam',\n",
    "                optim_config={\n",
    "                    'learning_rate': 1e-2,\n",
    "                },\n",
    "                lr_decay=0.9,\n",
    "                num_epochs=10, batch_size=400,\n",
    "                print_every=100)"
   ]
  },
  {
   "cell_type": "code",
<<<<<<< HEAD
   "execution_count": 23,
   "metadata": {
    "collapsed": false
   },
   "outputs": [
    {
     "name": "stdout",
     "output_type": "stream",
     "text": [
      "(Iteration 1 / 2000) loss: 13.940000\n",
      "(Epoch 0 / 10) train loss: 13.529297; val_loss: 13.706780\n",
      "(Iteration 101 / 2000) loss: 3.962204\n",
      "(Epoch 1 / 10) train loss: 1.450552; val_loss: 1.615727\n",
      "(Iteration 201 / 2000) loss: 1.361421\n",
      "(Iteration 301 / 2000) loss: 1.052229\n",
      "(Epoch 2 / 10) train loss: 0.966845; val_loss: 1.035427\n",
      "(Iteration 401 / 2000) loss: 0.846036\n",
      "(Iteration 501 / 2000) loss: 0.954078\n",
      "(Epoch 3 / 10) train loss: 0.859396; val_loss: 0.961847\n",
      "(Iteration 601 / 2000) loss: 0.961079\n",
      "(Iteration 701 / 2000) loss: 0.824206\n",
      "(Epoch 4 / 10) train loss: 0.857819; val_loss: 0.939850\n",
      "(Iteration 801 / 2000) loss: 0.804262\n",
      "(Iteration 901 / 2000) loss: 0.932479\n",
      "(Epoch 5 / 10) train loss: 0.839209; val_loss: 0.930400\n",
      "(Iteration 1001 / 2000) loss: 0.844723\n",
      "(Iteration 1101 / 2000) loss: 0.780872\n",
      "(Epoch 6 / 10) train loss: 0.863109; val_loss: 0.921306\n",
      "(Iteration 1201 / 2000) loss: 0.894469\n",
      "(Iteration 1301 / 2000) loss: 0.849328\n",
      "(Epoch 7 / 10) train loss: 0.834391; val_loss: 0.918100\n",
      "(Iteration 1401 / 2000) loss: 0.875230\n",
      "(Iteration 1501 / 2000) loss: 0.814983\n",
      "(Epoch 8 / 10) train loss: 0.828098; val_loss: 0.917071\n",
      "(Iteration 1601 / 2000) loss: 0.839868\n",
      "(Iteration 1701 / 2000) loss: 0.839973\n",
      "(Epoch 9 / 10) train loss: 0.833181; val_loss: 0.916433\n",
      "(Iteration 1801 / 2000) loss: 0.744477\n",
      "(Iteration 1901 / 2000) loss: 0.858240\n",
      "(Epoch 10 / 10) train loss: 0.843934; val_loss: 0.916495\n"
     ]
    }
   ],
=======
   "execution_count": null,
   "metadata": {
    "collapsed": false
   },
   "outputs": [],
>>>>>>> 16f665f0cf1b06bdc9ca7c66fd83bec15c9049dd
   "source": [
    "solver.train()"
   ]
  },
  {
   "cell_type": "code",
<<<<<<< HEAD
   "execution_count": 24,
   "metadata": {
    "collapsed": false
   },
   "outputs": [
    {
     "data": {
      "text/plain": [
       "(0, 2)"
      ]
     },
     "execution_count": 24,
     "metadata": {},
     "output_type": "execute_result"
    },
    {
     "data": {
      "image/png": "iVBORw0KGgoAAAANSUhEUgAAAX0AAAECCAYAAAASDQdFAAAABHNCSVQICAgIfAhkiAAAAAlwSFlz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\nIIwQ/z8KxYZ4XwZiDAAAAABJRU5ErkJggg==\n",
      "text/plain": [
       "<matplotlib.figure.Figure at 0x10c4a7828>"
      ]
     },
     "metadata": {},
     "output_type": "display_data"
    }
   ],
=======
   "execution_count": null,
   "metadata": {
    "collapsed": false
   },
   "outputs": [],
>>>>>>> 16f665f0cf1b06bdc9ca7c66fd83bec15c9049dd
   "source": [
    "plt.plot(solver.loss_history, 'o', alpha=0.7)\n",
    "plt.ylim((0, 2))"
   ]
  },
  {
   "cell_type": "code",
<<<<<<< HEAD
   "execution_count": 25,
   "metadata": {
    "collapsed": false
   },
   "outputs": [
    {
     "data": {
      "text/plain": [
       "(0, 2)"
      ]
     },
     "execution_count": 25,
     "metadata": {},
     "output_type": "execute_result"
    },
    {
     "data": {
      "image/png": "iVBORw0KGgoAAAANSUhEUgAAAYYAAAERCAYAAAB/4wAeAAAABHNCSVQICAgIfAhkiAAAAAlwSFlz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\ngg==\n",
      "text/plain": [
       "<matplotlib.figure.Figure at 0x10c4e76d8>"
      ]
     },
     "metadata": {},
     "output_type": "display_data"
    }
   ],
=======
   "execution_count": null,
   "metadata": {
    "collapsed": false
   },
   "outputs": [],
>>>>>>> 16f665f0cf1b06bdc9ca7c66fd83bec15c9049dd
   "source": [
    "def plotTrainTest(solver):\n",
    "    plt.plot(solver.train_loss_history, label='train')\n",
    "    plt.plot(solver.val_loss_history, label='val')\n",
    "    plt.legend()\n",
    "    plt.xlabel('epoch')\n",
    "    plt.ylabel('MSE')\n",
    "    \n",
    "plotTrainTest(solver)\n",
    "plt.ylim((0, 2))"
   ]
  },
  {
   "cell_type": "code",
<<<<<<< HEAD
   "execution_count": 28,
   "metadata": {
    "collapsed": false
   },
   "outputs": [
    {
     "data": {
      "text/plain": [
       "0.95730502461663181"
      ]
     },
     "execution_count": 28,
     "metadata": {},
     "output_type": "execute_result"
    }
   ],
=======
   "execution_count": null,
   "metadata": {
    "collapsed": false
   },
   "outputs": [],
>>>>>>> 16f665f0cf1b06bdc9ca7c66fd83bec15c9049dd
   "source": [
    "mse, _ = model.loss(X_test, y_test, use_reg=False)\n",
    "np.sqrt(mse)"
   ]
  },
  {
   "cell_type": "code",
<<<<<<< HEAD
   "execution_count": 29,
=======
   "execution_count": null,
>>>>>>> 16f665f0cf1b06bdc9ca7c66fd83bec15c9049dd
   "metadata": {
    "collapsed": true
   },
   "outputs": [],
   "source": [
    "model2 = MeanModel()"
   ]
  },
  {
   "cell_type": "code",
<<<<<<< HEAD
   "execution_count": 30,
=======
   "execution_count": null,
>>>>>>> 16f665f0cf1b06bdc9ca7c66fd83bec15c9049dd
   "metadata": {
    "collapsed": true
   },
   "outputs": [],
   "source": [
    "model2.fit(y_train)"
   ]
  },
  {
   "cell_type": "code",
<<<<<<< HEAD
   "execution_count": 32,
   "metadata": {
    "collapsed": false
   },
   "outputs": [
    {
     "data": {
      "text/plain": [
       "1.1536759777852488"
      ]
     },
     "execution_count": 32,
     "metadata": {},
     "output_type": "execute_result"
    }
   ],
=======
   "execution_count": null,
   "metadata": {
    "collapsed": false
   },
   "outputs": [],
>>>>>>> 16f665f0cf1b06bdc9ca7c66fd83bec15c9049dd
   "source": [
    "mse, _ = model2.loss(X_test, y_test)\n",
    "np.sqrt(mse)"
   ]
  },
  {
   "cell_type": "code",
<<<<<<< HEAD
   "execution_count": 41,
   "metadata": {
    "collapsed": false
   },
   "outputs": [
    {
     "name": "stdout",
     "output_type": "stream",
     "text": [
      "(Iteration 1 / 1600) loss: 0.817883\n",
      "(Epoch 0 / 20) train loss: 0.843966; val_loss: 0.914562\n",
      "(Epoch 1 / 20) train loss: 0.839609; val_loss: 0.914526\n",
      "(Iteration 101 / 1600) loss: 0.809060\n",
      "(Epoch 2 / 20) train loss: 0.842465; val_loss: 0.914490\n",
      "(Iteration 201 / 1600) loss: 0.839130\n",
      "(Epoch 3 / 20) train loss: 0.834729; val_loss: 0.914463\n",
      "(Iteration 301 / 1600) loss: 0.745648\n",
      "(Epoch 4 / 20) train loss: 0.822053; val_loss: 0.914423\n",
      "(Epoch 5 / 20) train loss: 0.837135; val_loss: 0.914361\n",
      "(Iteration 401 / 1600) loss: 0.915392\n",
      "(Epoch 6 / 20) train loss: 0.826063; val_loss: 0.914337\n",
      "(Iteration 501 / 1600) loss: 0.888957\n",
      "(Epoch 7 / 20) train loss: 0.828145; val_loss: 0.914298\n",
      "(Iteration 601 / 1600) loss: 0.819066\n",
      "(Epoch 8 / 20) train loss: 0.851168; val_loss: 0.914288\n",
      "(Iteration 701 / 1600) loss: 0.853102\n",
      "(Epoch 9 / 20) train loss: 0.825273; val_loss: 0.914226\n",
      "(Epoch 10 / 20) train loss: 0.809177; val_loss: 0.914145\n",
      "(Iteration 801 / 1600) loss: 0.788738\n",
      "(Epoch 11 / 20) train loss: 0.824274; val_loss: 0.914137\n",
      "(Iteration 901 / 1600) loss: 0.812987\n",
      "(Epoch 12 / 20) train loss: 0.819518; val_loss: 0.914092\n",
      "(Iteration 1001 / 1600) loss: 0.794793\n",
      "(Epoch 13 / 20) train loss: 0.839400; val_loss: 0.914075\n",
      "(Iteration 1101 / 1600) loss: 0.830241\n",
      "(Epoch 14 / 20) train loss: 0.833985; val_loss: 0.914019\n",
      "(Epoch 15 / 20) train loss: 0.828125; val_loss: 0.913963\n",
      "(Iteration 1201 / 1600) loss: 0.940568\n",
      "(Epoch 16 / 20) train loss: 0.840903; val_loss: 0.913916\n",
      "(Iteration 1301 / 1600) loss: 0.915920\n",
      "(Epoch 17 / 20) train loss: 0.831868; val_loss: 0.913880\n",
      "(Iteration 1401 / 1600) loss: 0.812055\n",
      "(Epoch 18 / 20) train loss: 0.828844; val_loss: 0.913839\n",
      "(Iteration 1501 / 1600) loss: 0.853192\n",
      "(Epoch 19 / 20) train loss: 0.849615; val_loss: 0.913769\n",
      "(Epoch 20 / 20) train loss: 0.808836; val_loss: 0.913703\n"
     ]
    }
   ],
=======
   "execution_count": null,
   "metadata": {
    "collapsed": false
   },
   "outputs": [],
>>>>>>> 16f665f0cf1b06bdc9ca7c66fd83bec15c9049dd
   "source": [
    "# model3 = StandardModel(nUsers, nItems, latentDim=10, reg=1e-3)\n",
    "# for p, v in model.params.items():\n",
    "#     model3.params[p] = v.copy()\n",
    "    \n",
    "solver3 = Solver(model3, data,\n",
    "                update_rule='adam',\n",
    "                optim_config={\n",
    "                    'learning_rate': 1e-3,\n",
    "                },\n",
    "                lr_decay=0.99,\n",
    "                num_epochs=20, batch_size=1000,\n",
    "                print_every=100)\n",
    "solver3.train()"
   ]
  },
  {
   "cell_type": "code",
<<<<<<< HEAD
   "execution_count": 42,
   "metadata": {
    "collapsed": false
   },
   "outputs": [
    {
     "data": {
      "text/plain": [
       "[<matplotlib.lines.Line2D at 0x10c561208>]"
      ]
     },
     "execution_count": 42,
     "metadata": {},
     "output_type": "execute_result"
    },
    {
     "data": {
      "image/png": "iVBORw0KGgoAAAANSUhEUgAAAYMAAAECCAYAAAAciLtvAAAABHNCSVQICAgIfAhkiAAAAAlwSFlz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\nKAMDAwMDAxhlYGBgYGAA4P8DI6ubBnpayO0AAAAASUVORK5CYII=\n",
      "text/plain": [
       "<matplotlib.figure.Figure at 0x10c4a7668>"
      ]
     },
     "metadata": {},
     "output_type": "display_data"
    }
   ],
=======
   "execution_count": null,
   "metadata": {
    "collapsed": false
   },
   "outputs": [],
>>>>>>> 16f665f0cf1b06bdc9ca7c66fd83bec15c9049dd
   "source": [
    "plt.plot(solver3.loss_history, 'o', alpha=0.7)"
   ]
  },
  {
   "cell_type": "code",
<<<<<<< HEAD
   "execution_count": 43,
   "metadata": {
    "collapsed": false
   },
   "outputs": [
    {
     "data": {
      "image/png": "iVBORw0KGgoAAAANSUhEUgAAAYwAAAERCAYAAABowZDXAAAABHNCSVQICAgIfAhkiAAAAAlwSFlz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\ngCGEEMIUCRhCCCFMkYAhhBDClP8P3fuGfVEM4hUAAAAASUVORK5CYII=\n",
      "text/plain": [
       "<matplotlib.figure.Figure at 0x10c664550>"
      ]
     },
     "metadata": {},
     "output_type": "display_data"
    }
   ],
=======
   "execution_count": null,
   "metadata": {
    "collapsed": false
   },
   "outputs": [],
>>>>>>> 16f665f0cf1b06bdc9ca7c66fd83bec15c9049dd
   "source": [
    "plotTrainTest(solver3)"
   ]
  },
  {
   "cell_type": "code",
<<<<<<< HEAD
   "execution_count": 44,
   "metadata": {
    "collapsed": false
   },
   "outputs": [
    {
     "data": {
      "text/plain": [
       "0.95587834893816381"
      ]
     },
     "execution_count": 44,
     "metadata": {},
     "output_type": "execute_result"
    }
   ],
   "source": [
    "mse, _ = model3.loss(X_test, y_test, use_reg=False)\n",
    "np.sqrt(mse)"
=======
   "execution_count": null,
   "metadata": {
    "collapsed": false
   },
   "outputs": [],
   "source": [
    "mse, _ = model3.loss(X_test, y_test, use_reg=False)\n",
    "mse"
>>>>>>> 16f665f0cf1b06bdc9ca7c66fd83bec15c9049dd
   ]
  },
  {
   "cell_type": "code",
   "execution_count": 66,
   "metadata": {
    "collapsed": true
   },
   "outputs": [],
   "source": [
    "pmfModel = PMFModel(nUsers, nItems, lamU=.0001, lamV=.0001, latentDim=30)\n",
    "pmfSolver = Solver(pmfModel, centeredData,\n",
    "                update_rule='adam',\n",
    "                optim_config={\n",
    "                    'learning_rate': 3e-4,\n",
    "                },\n",
    "                lr_decay=.9,\n",
    "                num_epochs=10, batch_size=400,\n",
    "                print_every=100)"
   ]
  },
  {
   "cell_type": "code",
   "execution_count": 67,
   "metadata": {
    "collapsed": false
   },
   "outputs": [
    {
     "name": "stdout",
     "output_type": "stream",
     "text": [
      "(Iteration 1 / 2000) loss: 1.178579\n",
      "(Epoch 0 / 10) train loss: 1.240352; val_loss: 1.330968\n",
      "(Iteration 101 / 2000) loss: 1.117180\n",
      "(Epoch 1 / 10) train loss: 1.237032; val_loss: 1.327766\n",
      "(Iteration 201 / 2000) loss: 1.256155\n",
      "(Iteration 301 / 2000) loss: 1.254508\n",
      "(Epoch 2 / 10) train loss: 1.227262; val_loss: 1.303422\n",
      "(Iteration 401 / 2000) loss: 1.158193\n",
      "(Iteration 501 / 2000) loss: 1.074126\n",
      "(Epoch 3 / 10) train loss: 1.164066; val_loss: 1.265941\n",
      "(Iteration 601 / 2000) loss: 1.213657\n",
      "(Iteration 701 / 2000) loss: 1.234541\n",
      "(Epoch 4 / 10) train loss: 1.151619; val_loss: 1.227856\n",
      "(Iteration 801 / 2000) loss: 1.106188\n",
      "(Iteration 901 / 2000) loss: 1.094234\n",
      "(Epoch 5 / 10) train loss: 1.095121; val_loss: 1.195967\n",
      "(Iteration 1001 / 2000) loss: 1.149971\n",
      "(Iteration 1101 / 2000) loss: 0.947028\n",
      "(Epoch 6 / 10) train loss: 1.078799; val_loss: 1.168987\n",
      "(Iteration 1201 / 2000) loss: 1.134622\n",
      "(Iteration 1301 / 2000) loss: 1.212550\n",
      "(Epoch 7 / 10) train loss: 1.062387; val_loss: 1.147766\n",
      "(Iteration 1401 / 2000) loss: 1.052228\n",
      "(Iteration 1501 / 2000) loss: 1.084226\n",
      "(Epoch 8 / 10) train loss: 1.029896; val_loss: 1.130478\n",
      "(Iteration 1601 / 2000) loss: 1.068794\n",
      "(Iteration 1701 / 2000) loss: 1.059418\n",
      "(Epoch 9 / 10) train loss: 1.006704; val_loss: 1.117153\n",
      "(Iteration 1801 / 2000) loss: 1.143318\n",
      "(Iteration 1901 / 2000) loss: 0.915820\n",
      "(Epoch 10 / 10) train loss: 0.982141; val_loss: 1.105847\n"
     ]
    }
   ],
   "source": [
    "pmfSolver.train()"
   ]
  },
  {
   "cell_type": "code",
   "execution_count": 68,
   "metadata": {
    "collapsed": false
   },
   "outputs": [
    {
     "data": {
      "text/plain": [
       "1.0515923101272422"
      ]
     },
     "execution_count": 68,
     "metadata": {},
     "output_type": "execute_result"
    }
   ],
   "source": [
    "mse, _ = pmfModel.loss(X_test, y_test_centered, use_reg=False)\n",
    "rmse = math.sqrt(mse)\n",
    "rmse"
   ]
  },
  {
   "cell_type": "code",
   "execution_count": 78,
   "metadata": {
    "collapsed": false
   },
   "outputs": [
    {
     "data": {
      "text/plain": [
       "0"
      ]
     },
     "execution_count": 78,
     "metadata": {},
     "output_type": "execute_result"
    }
   ],
   "source": [
    "preds = np.dot(pmfModel.params['U'], pmfModel.params['V'].T)\n",
    "preds = preds + yMean\n",
    "np.sum(preds < 1.0)"
   ]
  },
  {
   "cell_type": "code",
   "execution_count": null,
   "metadata": {
    "collapsed": true
   },
   "outputs": [],
   "source": []
  }
 ],
 "metadata": {
  "kernelspec": {
   "display_name": "Python 3",
   "language": "python",
   "name": "python3"
  },
  "language_info": {
   "codemirror_mode": {
    "name": "ipython",
    "version": 3
   },
   "file_extension": ".py",
   "mimetype": "text/x-python",
   "name": "python",
   "nbconvert_exporter": "python",
   "pygments_lexer": "ipython3",
   "version": "3.5.1"
  }
 },
 "nbformat": 4,
 "nbformat_minor": 0
}
